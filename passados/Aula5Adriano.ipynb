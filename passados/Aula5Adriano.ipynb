{
  "nbformat": 4,
  "nbformat_minor": 0,
  "metadata": {
    "colab": {
      "name": "Aula5Adriano.ipynb",
      "provenance": [],
      "collapsed_sections": [],
      "authorship_tag": "ABX9TyNQvIDbG6u4slkjCZJyD3Lj",
      "include_colab_link": true
    },
    "kernelspec": {
      "name": "python3",
      "display_name": "Python 3"
    },
    "language_info": {
      "name": "python"
    }
  },
  "cells": [
    {
      "cell_type": "markdown",
      "metadata": {
        "id": "view-in-github",
        "colab_type": "text"
      },
      "source": [
        "<a href=\"https://colab.research.google.com/github/adrianotelecom/BlueInicio/blob/main/Aula5Adriano.ipynb\" target=\"_parent\"><img src=\"https://colab.research.google.com/assets/colab-badge.svg\" alt=\"Open In Colab\"/></a>"
      ]
    },
    {
      "cell_type": "markdown",
      "metadata": {
        "id": "4rnU-16pJfpd"
      },
      "source": [
        "## Exercicio1:\"Faça um Programa que leia tres numeros inteiros, em seguida mostre o maior e o menor deles.\"\n"
      ]
    },
    {
      "cell_type": "code",
      "metadata": {
        "id": "uP2Ng1qwJxH1"
      },
      "source": [
        "    primeiro = int(input('Primeiro numero: '))\n",
        "    segundo  = int(input('Segundo numero : '))\n",
        "    terceiro = int(input('Terceiro numero: '))\n",
        "\n",
        "    # maior número\n",
        "\n",
        "    maior = primeiro\n",
        "\n",
        "    if (segundo > maior):\n",
        "        maior = segundo\n",
        "    if (terceiro > maior):\n",
        "        maior = terceiro\n",
        "\n",
        "    print('Maior: ',maior)\n",
        "\n",
        "    # menor número\n",
        "    menor = primeiro\n",
        "\n",
        "    if (segundo < menor):\n",
        "        menor = segundo\n",
        "    if (terceiro < menor):\n",
        "        menor = terceiro\n",
        "\n",
        "    print('Menor: ',menor)\n",
        "\n"
      ],
      "execution_count": null,
      "outputs": []
    },
    {
      "cell_type": "markdown",
      "metadata": {
        "id": "HOLExv16MLbK"
      },
      "source": [
        "## 2:Faça um programa que peça dois numeros e imprima o maior deles.\n"
      ]
    },
    {
      "cell_type": "code",
      "metadata": {
        "id": "2YjdHpSsMWnz"
      },
      "source": [
        "num1 = int (input('Primeiro numero: '))\n",
        "\n",
        "num2 = int(input('Segundo numero: '))\n",
        "\n",
        "if num1 > num2:\n",
        "    print(num1)\n",
        "else:\n",
        "    print(num2)\n",
        "\n",
        "       \n",
        "\n",
        "     "
      ],
      "execution_count": null,
      "outputs": []
    },
    {
      "cell_type": "markdown",
      "metadata": {
        "id": "w-RAFd3WPFZS"
      },
      "source": [
        "Exercício 3 - Faça um script que peça um valor e mostre na tela se o valor é positivo ou negativo.\n"
      ]
    },
    {
      "cell_type": "code",
      "metadata": {
        "colab": {
          "base_uri": "https://localhost:8080/"
        },
        "id": "IO5ZHkt_PGTh",
        "outputId": "c5bb7004-8165-4a87-9058-6d5a3d04ae17"
      },
      "source": [
        "n1 = int (input('Digite o numero: '))\n",
        "\n",
        "if (n1 < 0):\n",
        "    print('O numero é negativo')\n",
        "else:\n",
        "    print('O numero é positivo')"
      ],
      "execution_count": null,
      "outputs": [
        {
          "output_type": "stream",
          "text": [
            "Digite o numero: 1\n",
            "O numero é positivo\n"
          ],
          "name": "stdout"
        }
      ]
    },
    {
      "cell_type": "markdown",
      "metadata": {
        "id": "bXEFBSHPPGwZ"
      },
      "source": [
        "Exercício 4 - Crie um programa que verifique se uma letra digitada é \"F\" ou \"M\". Conforme a letra escrever: F - Feminino, M - Masculino, Sexo Inválido.\n"
      ]
    },
    {
      "cell_type": "code",
      "metadata": {
        "id": "tP3ZRCknPKuk"
      },
      "source": [
        "Sexo = (input(\"Digite 'F', para Feminono e 'M' para masculino: \"))\n",
        "if Sexo == \"F\".lower():\n",
        "  print(\"Feminino\")\n",
        "elif Sexo == \"M\".lower():\n",
        "  print(\"Masculino\")\n",
        "else:\n",
        "  print(\"Sexo inválido\")\n",
        "\n",
        "\n",
        "\n",
        "\n",
        "\n"
      ],
      "execution_count": null,
      "outputs": []
    },
    {
      "cell_type": "markdown",
      "metadata": {
        "id": "FecpayWlPLP_"
      },
      "source": [
        "Exercício 5 - Crie um programa em Python que peça a nota do aluno, que deve ser um float entre 0.00 e 10.0\n",
        "•\tSe a nota for menor que 6.0, deve exibir a nota F.\n",
        "•\tSe a nota for de 6.0 até 7.0, deve exibir a nota D.\n",
        "•\tSe a nota for entre 7.0 e 8.0, deve exibir a nota C.\n",
        "•\tSe a nota for entre 8.0 e 9.0, deve exibir a nota B.\n",
        "•\tPor fim, se for entre 9.0 e 10.0, deve exibir um belo de um A.\n",
        "\n"
      ]
    },
    {
      "cell_type": "code",
      "metadata": {
        "id": "w9Lq21DxPP9I",
        "colab": {
          "base_uri": "https://localhost:8080/"
        },
        "outputId": "363721a8-f58d-456f-b1dd-8f8dea06af16"
      },
      "source": [
        "nota = float(input(\"Digite sua nota entre 0 e 10:\"))\n",
        "\n",
        "\n",
        "if nota < 5.9:\n",
        "  print(\"nota F\")\n",
        "elif nota >= 6 and nota <= 6.9:\n",
        "  print(\"nota D\")\n",
        "elif nota >= 7 and nota <= 7.9:\n",
        "  print(\"nota C\")\n",
        "elif nota >= 8 and nota <= 8.9:\n",
        "  print(\"nota B\")\n",
        "else:\n",
        "  print(\"nota A\")\n",
        "\n"
      ],
      "execution_count": null,
      "outputs": [
        {
          "output_type": "stream",
          "text": [
            "Digite sua nota entre 0 e 10:9\n",
            "nota A\n"
          ],
          "name": "stdout"
        }
      ]
    },
    {
      "cell_type": "markdown",
      "metadata": {
        "id": "CRhXGHtDPQej"
      },
      "source": [
        "Exercício 6 - Faça um Programa que verifique se uma letra digitada é vogal ou consoante.\n"
      ]
    },
    {
      "cell_type": "code",
      "metadata": {
        "colab": {
          "base_uri": "https://localhost:8080/"
        },
        "id": "kFg_-_8dPTLn",
        "outputId": "fae7ee12-51d6-4de4-94f7-4c44259a06c8"
      },
      "source": [
        "letra = input('Digite uma letra: '). lower()\n",
        "if len(letra) > 1:\n",
        "    print('não é possivel verificar mais de uma letra ')\n",
        "else:\n",
        "    if letra == \"a\" or letra == \"e\" or letra == \"i\" or letra == \"o\" or letra == \"u\":\n",
        "        print('Letra digitada é uma vogal')\n",
        "    else:\n",
        "        print('Letra digitada é uma consoante')"
      ],
      "execution_count": null,
      "outputs": [
        {
          "output_type": "stream",
          "text": [
            "Digite uma letra: a\n",
            "Letra digitada é uma vogal\n"
          ],
          "name": "stdout"
        }
      ]
    },
    {
      "cell_type": "markdown",
      "metadata": {
        "id": "DluFKcDaCB0m"
      },
      "source": [
        "# PROJETO 1\n",
        "Resultado da primeira/segunda aula em Python:\n",
        "•\tEscreva um programa que receba uma string digitada pelo usuário;\n",
        "•\tCaso a string seja \"medieval\", exiba no console \"espada\";\n",
        "•\tCaso contrário, se a string for \"futurista\", exiba no console \"sabre de luz\";\n",
        "•\tCaso contrário, exiba no console \"Tente novamente\"\n",
        "Continuação do PROJETO 1\n",
        "•\tEscreva um programa que receba um ataque de espada ou sabre digitada pelo usuário;\n",
        "•\tCaso o ataque seja \"espada\", exiba no console \"VOCÊ AINDA NÃO MATOU O CHEFÃO\";\n",
        "•\tCaso contrário, se o ataque for \"sabre\", exiba no console \"VOCÊ DERROTOU O CHEFÃO COM O SABRE DE LUZ\";\n",
        "•\tCaso contrário, exiba no console \"ATAQUE NOVAMENTE\"\n"
      ]
    },
    {
      "cell_type": "code",
      "metadata": {
        "id": "wvV-xMhiCFef"
      },
      "source": [
        "epoca = input(\"Digite a época *MEDIEVAl* ou *FUTURISTA*\")\n",
        "print(epoca)\n",
        "if epoca == 'MEDIEVAL':\n",
        "  print(\"Excelente escolha\")\n",
        "  print(\"Sua arma será: ESPADA\")\n",
        "elif epoca == \"FUTURISTA\":\n",
        "  print(\"Excelente escolha\")\n",
        "  print(\"Sua arma será: Sabre de Luz\")\n",
        "else:\n",
        "  print(\"Por favor, tente novamente.\")\n",
        "ataque = input(\"ESPADA OU Sabre de luz\")\n",
        "print(\"ataque\")\n",
        "if ataque == \"epoca\" or ataque == \"ESPADA\":\n",
        "  print(\"VOCÊ AINDA NÂO MATOU O CHEFÂO\")\n",
        "elif ataque == \"epoca\" or ataque == 'Sabre de luz':\n",
        "  print(\"VOCÊ DERROTOU O CHEFÂO COM O SABRE DE LUZ\")\n",
        "else:\n",
        "  print(\"ATAQUE NOVAMENTE*BORA*\")\n",
        "\n"
      ],
      "execution_count": null,
      "outputs": []
    },
    {
      "cell_type": "markdown",
      "metadata": {
        "id": "OGiC8amuLbtn"
      },
      "source": [
        "# contrataram para desenvolver o programa que calculará os reajustes.\n",
        "\n",
        "Faça um programa que recebe o salário de um colaborador e o reajuste segundo o seguinte critério, baseado no salário atual:\n",
        "•\tsalários até R$ 280,00 (incluindo) : aumento de 20%\n",
        "•\tsalários entre R$ 280,00 e R$ 700,00 : aumento de 15%\n",
        "•\tsalários entre R$ 700,00 e R$ 1500,00 : aumento de 10%\n",
        "•\tsalários de R$ 1500,00 em diante : aumento de 5%\n",
        "Após o aumento ser realizado, informe na tela:\n",
        "•\to salário antes do reajuste;\n",
        "•\to percentual de aumento aplicado;\n",
        "•\to valor do aumento;\n",
        "•\to novo salário, após o aumento.\"\n",
        "\n"
      ]
    },
    {
      "cell_type": "code",
      "metadata": {
        "id": "wH4vIaaQLzAE"
      },
      "source": [
        "salario = float(input('Salário do colaborador: '))\n",
        "\n",
        "if (salario == 280):\n",
        "        percentual = 20\n",
        "elif (salario <= 700):\n",
        "        percentual = 15\n",
        "elif (salario <= 1500):\n",
        "        percentual = 10\n",
        "else:\n",
        "        percentual = 5\n",
        "\n",
        "print('Salario original: R$ ', salario)\n",
        "print('Percentual: ',percentual,'%')\n",
        "\n",
        "percentual = percentual/100.0\n",
        "aumento = percentual * salario\n",
        "novo_salario = salario + aumento\n",
        "    \n",
        "print('Aumento: R$ ',aumento)\n",
        "print('Novo salário: R$ ', novo_salario)"
      ],
      "execution_count": null,
      "outputs": []
    },
    {
      "cell_type": "markdown",
      "metadata": {
        "id": "N0wlBsO5d8AR"
      },
      "source": [
        "Faça um Programa para um caixa eletrônico. O programa deverá perguntar ao usuário a valor do saque e depois informar quantas notas de cada valor serão fornecidas. As notas disponíveis serão as de 1, 5, 10, 50 e 100 reais. O valor mínimo é de 10 reais e o máximo de 600 reais. O programa não deve se preocupar com a quantidade de notas existentes na máquina.\n",
        "•\tExemplo 1: Para sacar a quantia de 256 reais, o programa fornece duas notas de 100, uma nota de 50, uma nota de 5 e uma nota de 1;\n",
        "•\tExemplo 2: Para sacar a quantia de 399 reais, o programa fornece três notas de 100, uma nota de 50, quatro notas de 10, uma nota de 5 e quatro notas de 1.\n"
      ]
    },
    {
      "cell_type": "code",
      "metadata": {
        "id": "wQ4ktNcAd8co"
      },
      "source": [
        "numero = float(input('iNFORME O VALOR PARA SAQUE [10-600]: '))\n",
        "if numero == [10-600]:\n",
        "  print('Você ira receber:')\n",
        "else:\n",
        "  print(\"Digite o valor para saque de R$: 10,00 a R$: 600,00\")\n",
        "\n",
        "\n",
        "if numero >= 10 and numero <= 600:\n",
        "  nota_cem = int(numero/ 100)\n",
        "  numero = numero-(nota_cem*100)\n",
        "\n",
        "  nota_cinquenta = int(numero/50)\n",
        "  numero = numero-(nota_cinquenta*50)\n",
        "\n",
        "  dez = int(numero/10)\n",
        "  numero = numero - (dez*10)\n",
        "\n",
        "  cinco = int(numero/5)\n",
        "  numero = numero - (cinco*5)\n",
        "  \n",
        "  um = numero\n",
        "  print('Notas R$100,00 = ',nota_cem)\n",
        "  print('Notas R$ 50,00 = ',nota_cinquenta)\n",
        "  print('Notas R$ 10,00 = ',dez)\n",
        "  print('Notas R$  5,00 = ',cinco)\n",
        "  print('Notas R$  1,00 = ',um)\n",
        "else:\n",
        "  print(\"Valor indisponivel\")"
      ],
      "execution_count": null,
      "outputs": []
    }
  ]
}